{
 "cells": [
  {
   "cell_type": "code",
   "execution_count": 1,
   "metadata": {},
   "outputs": [],
   "source": [
    "import pandas as pd\n",
    "import numpy as np\n",
    "import matplotlib.pyplot as plt\n",
    "import nibabel as nib\n",
    "from pathlib import Path\n",
    "import plotly.express as px"
   ]
  },
  {
   "cell_type": "code",
   "execution_count": 4,
   "metadata": {},
   "outputs": [],
   "source": [
    "from brainmri.core import DATA_PATH\n",
    "\n",
    "\n",
    "path_to_main_directory = DATA_PATH\n",
    "img_paths = list(path_to_main_directory.glob(\"*.nii.gz\"))\n",
    "\n",
    "brain_images = [img for img in img_paths if \"brain\" in img.stem]\n",
    "other_images = [img for img in img_paths if not \"brain\" in img.stem]\n",
    "\n",
    "df = pd.read_csv(str(path_to_main_directory / \"gestational_ages.csv\"))\n",
    "ids=list(df['ids'])\n",
    "gas=list(df['tag_ga'])"
   ]
  },
  {
   "cell_type": "code",
   "execution_count": 5,
   "metadata": {},
   "outputs": [],
   "source": [
    "def get_ga(path: Path):\n",
    "    filename = path.stem\n",
    "    study= filename.split('_')[0]\n",
    "    study2= study.split('fm')[1:]\n",
    "    id_nr=int(study2[0])\n",
    "            \n",
    "    if id_nr in ids:\n",
    "        index_in_list=ids.index(id_nr)\n",
    "        ga=gas[index_in_list]\n",
    "        if type(ga) == int or type(ga) == float and not np.isnan(ga):\n",
    "            ga=ga\n",
    "        else:\n",
    "            ga=None\n",
    "    else:\n",
    "        ga=0\n",
    "    return ga"
   ]
  },
  {
   "cell_type": "code",
   "execution_count": 7,
   "metadata": {},
   "outputs": [
    {
     "name": "stdout",
     "output_type": "stream",
     "text": [
      "Volume of fm0087_t2_recon_2_mask_brain_tissue.nii is 304499.5489048958 mm^3\n"
     ]
    },
    {
     "data": {
      "image/png": "[encoded data removed]",
      "text/plain": [
       "<Figure size 640x480 with 1 Axes>"
      ]
     },
     "metadata": {},
     "output_type": "display_data"
    }
   ],
   "source": [
    "total_volume_ml_hist = []\n",
    "volume_ml_per_ga = {}\n",
    "\n",
    "for img_path in brain_images:\n",
    "\n",
    "    tmp = nib.load(img_path)\n",
    "    ga = get_ga(img_path)\n",
    "    if not ga:\n",
    "        continue\n",
    "\n",
    "    zooms = tmp.header.get_zooms()\n",
    "    img = tmp.get_fdata()\n",
    "    nx,ny,nz = img.shape\n",
    "    slices = [img[:,:,i] for i in range(nz)]\n",
    "\n",
    "    total_volume_mm = 0\n",
    "    for slice in slices:\n",
    "        mask = slice > 0\n",
    "        slice_voxels = np.count_nonzero(mask)\n",
    "        voxel_size = np.prod(zooms)\n",
    "        slice_volume = slice_voxels * voxel_size\n",
    "        total_volume_mm += slice_volume\n",
    "\n",
    "    total_ml = total_volume_mm / 1000\n",
    "\n",
    "    #otuliers\n",
    "    if total_ml > 300 and ga < 20:\n",
    "        print(f\"Volume of {img_path.stem} is {total_volume_mm} mm^3\")\n",
    "        plt.imshow(slices[50], cmap=\"gray\")\n",
    "        plt.show()\n",
    "\n",
    "    total_volume_ml_hist.append(total_ml)\n",
    "    volume_ml_per_ga[ga] = volume_ml_per_ga.get(ga, []) + [total_ml]"
   ]
  },
  {
   "cell_type": "code",
   "execution_count": 8,
   "metadata": {},
   "outputs": [],
   "source": [
    "volume_ml_per_ga_avg = {k: np.mean(v) for k, v in volume_ml_per_ga.items()}"
   ]
  },
  {
   "cell_type": "code",
   "execution_count": 9,
   "metadata": {},
   "outputs": [
    {
     "data": {
      "application/vnd.plotly.v1+json": {
       "config": {
        "plotlyServerURL": "https://plot.ly"
       },
       "data": [
        {
         "hovertemplate": "x=%{x}<br>y=%{y}<extra></extra>",
         "legendgroup": "",
         "marker": {
          "color": "#636efa",
          "symbol": "circle"
         },
         "mode": "markers",
         "name": "",
         "orientation": "v",
         "showlegend": false,
         "type": "scatter",
         "x": [
          31.42857143,
          26.2797619,
          30.28571429,
          30.28571429,
          30.28571429,
          28,
          21,
          32,
          32,
          18.70833333,
          18.70833333,
          27.42857143,
          27.42857143,
          27.42857143,
          23.99404762,
          23.99404762,
          20.2797619,
          20.2797619,
          30.85714286,
          30.85714286,
          37.85714286,
          17.70833333,
          28.70833333,
          28.70833333,
          28.70833333,
          32.14285714,
          32.14285714,
          32.14285714,
          24.2797619,
          24.2797619,
          25.85119048,
          36.42857143,
          33.13690476,
          32.99404762,
          22.56547619,
          21.42261905,
          26.56547619,
          33.42261905,
          24.42261905,
          29.56547619,
          29.56547619,
          38.28571429,
          38.28571429,
          22.85119048,
          29.70833333,
          29.70833333,
          27.13690476,
          31.56547619,
          26.42261905,
          25.2797619,
          31.13690476,
          33.99404762,
          36.2797619,
          36.28571429,
          37.14285714,
          37.14285714,
          37.14285714,
          34.28571429,
          34.28571429,
          33.85714286,
          33.85714286,
          33.85714286,
          33.28571429,
          30.14285714,
          30.14285714,
          30.14285714,
          17.57738095,
          17.57738095,
          35.71428571,
          20.7202381,
          20.7202381,
          32.85714286,
          32.85714286,
          32.85714286,
          32.85714286,
          25.14285714,
          31.28571429,
          27.14285714,
          27.14285714,
          38.14285714,
          38.14285714,
          27.28571429,
          34.14285714,
          34.14285714,
          34.14285714,
          34.14285714,
          34.14285714,
          37.71428571,
          37.71428571,
          35,
          35,
          25,
          21.14880952,
          28.28571429,
          23.14880952,
          31.57142857,
          26.71428571,
          20.00595238,
          37.28571429,
          24.43452381,
          32.71428571,
          32.71428571,
          22.43452381,
          22.43452381,
          21.43452381,
          21.00595238,
          21.00595238,
          23.57738095,
          33,
          33,
          25.7202381,
          25.7202381,
          18.00595238,
          23.86309524,
          29.43452381,
          17.7202381,
          17.29166667,
          17.29166667,
          17.43452381,
          38.71428571,
          38.71428571,
          32.00595238,
          27.57738095,
          26.29166667,
          37.57142857,
          37.57142857,
          31.86309524,
          22.7202381,
          30.43452381,
          33.57738095,
          24.86309524,
          24.86309524,
          34.14880952,
          20.57738095,
          36.00595238,
          36.00595238,
          25.43452381,
          28.86309524,
          27.86309524,
          28.57738095,
          31.57738095,
          27.14880952,
          33.00595238,
          21.29166667,
          26.43452381,
          29.28571429,
          31.85714286,
          22.42857143,
          28.14285714,
          28.14285714,
          22.14285714,
          38.57142857,
          38.57142857,
          25.57142857,
          40,
          22.28571429,
          33.57142857,
          28.71428571,
          28.71428571,
          39.14285714,
          23.57142857,
          24.85714286,
          36,
          36,
          23.71428571,
          26.28571429,
          38,
          37,
          32.28571429,
          18.28571429,
          27,
          27,
          28.85714286,
          28.85714286,
          34.57142857,
          17.42857143,
          25.28571429,
          25.28571429,
          25.28571429,
          25.28571429,
          25.28571429,
          30,
          29.71428571,
          30.42857143,
          24.42857143,
          36.14285714,
          34.85714286,
          34.85714286,
          35.85714286,
          20.70833333,
          39.28571429,
          24.13690476,
          18.13690476,
          22.70833333,
          26.85119048,
          27.56547619,
          28.85119048,
          21.13690476,
          23.42261905,
          17.42261905,
          36.85119048,
          24.56547619,
          23,
          23,
          22,
          21.71428571,
          29.42857143,
          18.14880952,
          18.57738095,
          26.57738095,
          27.29166667
         ],
         "xaxis": "x",
         "y": [
          279.40865327119826,
          366.3584987769127,
          257.073328125,
          284.8556430401802,
          239.7686627602577,
          206.81224363183975,
          61.18502980804443,
          286.626515625,
          315.2200619225502,
          74.38522306108474,
          70.64064670562745,
          193.500140625,
          164.63175962781906,
          195.15688252544402,
          109.7176424150467,
          112.29063465929032,
          68.373703125,
          58.654,
          214.422609375,
          339.3775042157173,
          373.010484375,
          86.4691282081604,
          211.210875,
          226.08635746145248,
          212.18114014148713,
          324.100828125,
          313.70460577869414,
          282.6731788330078,
          116.237,
          123.32218770647049,
          129.2675625,
          360.455484375,
          329.81475130796434,
          322.7541426377297,
          89.71258451604844,
          85.41677610826493,
          168.1672479634285,
          380.23434009408953,
          119.53268334674836,
          193.53601837158203,
          360.79779424905774,
          430.79216889333725,
          357.80835396528244,
          85.92653615665436,
          230.21454985332488,
          245.70775,
          167.25831987714767,
          262.7804409446716,
          179.98504108524324,
          153.34619055652618,
          322.52259375,
          326.53378125,
          422.679515625,
          427.59882459020616,
          402.07799016761777,
          408.61155878782273,
          424.66468031167983,
          387.1394287495613,
          312.84060569667815,
          346.223953125,
          352.7625934863091,
          366.0353627462387,
          343.00112055969237,
          270.796633705616,
          232.86011810445785,
          226.23496547555922,
          36.792984375,
          54.520133175373076,
          377.666531850338,
          58.790021580696106,
          56.933625,
          307.63759720277784,
          275.5227141542435,
          286.17065116500856,
          345.03670475292205,
          113.27386675262451,
          269.5645695886612,
          246.6944874176979,
          168.45755199098588,
          522.2966895794868,
          392.07805321836474,
          201.1305790925026,
          343.4555846028328,
          269.8980736203194,
          383.13392436933515,
          319.044126285553,
          369.31683505773543,
          432.02941701078413,
          362.6260184226036,
          481.36209369373324,
          428.46455267238616,
          100.32423352336883,
          78.1920074224472,
          177.0716328086853,
          93.10119283771515,
          204.8924354496002,
          166.18868777561187,
          54.16416514158249,
          445.50436228990554,
          110.62311450099945,
          315.4343339428902,
          345.9369928383827,
          84.83789605331421,
          80.35027962732315,
          76.04410321855545,
          72.081875,
          65.3735,
          96.65,
          350.11529723501206,
          364.8672346353531,
          153.58811057949066,
          146.70721392631532,
          33.29675,
          107.23969017982483,
          225.63189341831207,
          30.91175,
          304.4995489048958,
          30.846530928134918,
          33.563375,
          387.5748847908974,
          448.554282579422,
          300.28322850465776,
          169.10036805200576,
          158.5716630525589,
          427.2895125608444,
          383.2773483829498,
          325.57423890542987,
          88.93152844190598,
          267.715609413147,
          318.6708782501221,
          189.99189003515244,
          138.11386911058426,
          404.63024640989306,
          104.48180191802979,
          413.60029526138305,
          392.74506128168105,
          152.61697448730467,
          225.08930136680604,
          196.73109067487718,
          232.46095006656645,
          264.0159610619545,
          171.2361762547493,
          335.71068786764147,
          74.56666307830811,
          181.1186091928482,
          265.5677052092552,
          266.1880572681427,
          89.55188050079346,
          192.48712227201463,
          192.15016224002838,
          90.34157657575608,
          438.66320964050294,
          513.3784807329178,
          125.77076393890381,
          355.28028972530365,
          84.92084006118775,
          360.0651221795082,
          248.9633516330719,
          210.20430795383453,
          428.14487264204024,
          112.73645870161056,
          129.41684428501128,
          373.182371424675,
          380.09437208080294,
          103.32749780845641,
          196.29217863321304,
          411.9586951055527,
          452.63236296653747,
          289.4469394760132,
          65.19053418827058,
          192.55797027873993,
          175.7099686794281,
          211.2722120552063,
          198.47118684005738,
          336.6818239598274,
          74.3558470582962,
          141.81870146226882,
          143.4067336130142,
          155.82414279174805,
          131.41959647512437,
          144.44007771110535,
          182.3403053088188,
          183.8523054523468,
          301.39778861045835,
          114.07738682889938,
          363.8960985431671,
          366.32566677379606,
          364.87414663600924,
          376.8664677743912,
          78.33024743556976,
          469.0639165263176,
          128.95374024105072,
          162.62036743688583,
          93.54528887987136,
          169.03816004610061,
          193.42197036075592,
          216.3629005384445,
          79.52256754875184,
          102.49632972955703,
          101.91744967460632,
          340.21558429527283,
          120.23943541383743,
          101.94682567739487,
          101.94682567739487,
          83.16864789485932,
          81.45792773246765,
          228.384597679615,
          56.1962933344841,
          63.08928598880768,
          173.95086451244353,
          192.39208226299286
         ],
         "yaxis": "y"
        }
       ],
       "layout": {
        "legend": {
         "tracegroupgap": 0
        },
        "template": {
         "data": {
          "bar": [
           {
            "error_x": {
             "color": "#2a3f5f"
            },
            "error_y": {
             "color": "#2a3f5f"
            },
            "marker": {
             "line": {
              "color": "#E5ECF6",
              "width": 0.5
             },
             "pattern": {
              "fillmode": "overlay",
              "size": 10,
              "solidity": 0.2
             }
            },
            "type": "bar"
           }
          ],
          "barpolar": [
           {
            "marker": {
             "line": {
              "color": "#E5ECF6",
              "width": 0.5
             },
             "pattern": {
              "fillmode": "overlay",
              "size": 10,
              "solidity": 0.2
             }
            },
            "type": "barpolar"
           }
          ],
          "carpet": [
           {
            "aaxis": {
             "endlinecolor": "#2a3f5f",
             "gridcolor": "white",
             "linecolor": "white",
             "minorgridcolor": "white",
             "startlinecolor": "#2a3f5f"
            },
            "baxis": {
             "endlinecolor": "#2a3f5f",
             "gridcolor": "white",
             "linecolor": "white",
             "minorgridcolor": "white",
             "startlinecolor": "#2a3f5f"
            },
            "type": "carpet"
           }
          ],
          "choropleth": [
           {
            "colorbar": {
             "outlinewidth": 0,
             "ticks": ""
            },
            "type": "choropleth"
           }
          ],
          "contour": [
           {
            "colorbar": {
             "outlinewidth": 0,
             "ticks": ""
            },
            "colorscale": [
             [
              0,
              "#0d0887"
             ],
             [
              0.1111111111111111,
              "#46039f"
             ],
             [
              0.2222222222222222,
              "#7201a8"
             ],
             [
              0.3333333333333333,
              "#9c179e"
             ],
             [
              0.4444444444444444,
              "#bd3786"
             ],
             [
              0.5555555555555556,
              "#d8576b"
             ],
             [
              0.6666666666666666,
              "#ed7953"
             ],
             [
              0.7777777777777778,
              "#fb9f3a"
             ],
             [
              0.8888888888888888,
              "#fdca26"
             ],
             [
              1,
              "#f0f921"
             ]
            ],
            "type": "contour"
           }
          ],
          "contourcarpet": [
           {
            "colorbar": {
             "outlinewidth": 0,
             "ticks": ""
            },
            "type": "contourcarpet"
           }
          ],
          "heatmap": [
           {
            "colorbar": {
             "outlinewidth": 0,
             "ticks": ""
            },
            "colorscale": [
             [
              0,
              "#0d0887"
             ],
             [
              0.1111111111111111,
              "#46039f"
             ],
             [
              0.2222222222222222,
              "#7201a8"
             ],
             [
              0.3333333333333333,
              "#9c179e"
             ],
             [
              0.4444444444444444,
              "#bd3786"
             ],
             [
              0.5555555555555556,
              "#d8576b"
             ],
             [
              0.6666666666666666,
              "#ed7953"
             ],
             [
              0.7777777777777778,
              "#fb9f3a"
             ],
             [
              0.8888888888888888,
              "#fdca26"
             ],
             [
              1,
              "#f0f921"
             ]
            ],
            "type": "heatmap"
           }
          ],
          "heatmapgl": [
           {
            "colorbar": {
             "outlinewidth": 0,
             "ticks": ""
            },
            "colorscale": [
             [
              0,
              "#0d0887"
             ],
             [
              0.1111111111111111,
              "#46039f"
             ],
             [
              0.2222222222222222,
              "#7201a8"
             ],
             [
              0.3333333333333333,
              "#9c179e"
             ],
             [
              0.4444444444444444,
              "#bd3786"
             ],
             [
              0.5555555555555556,
              "#d8576b"
             ],
             [
              0.6666666666666666,
              "#ed7953"
             ],
             [
              0.7777777777777778,
              "#fb9f3a"
             ],
             [
              0.8888888888888888,
              "#fdca26"
             ],
             [
              1,
              "#f0f921"
             ]
            ],
            "type": "heatmapgl"
           }
          ],
          "histogram": [
           {
            "marker": {
             "pattern": {
              "fillmode": "overlay",
              "size": 10,
              "solidity": 0.2
             }
            },
            "type": "histogram"
           }
          ],
          "histogram2d": [
           {
            "colorbar": {
             "outlinewidth": 0,
             "ticks": ""
            },
            "colorscale": [
             [
              0,
              "#0d0887"
             ],
             [
              0.1111111111111111,
              "#46039f"
             ],
             [
              0.2222222222222222,
              "#7201a8"
             ],
             [
              0.3333333333333333,
              "#9c179e"
             ],
             [
              0.4444444444444444,
              "#bd3786"
             ],
             [
              0.5555555555555556,
              "#d8576b"
             ],
             [
              0.6666666666666666,
              "#ed7953"
             ],
             [
              0.7777777777777778,
              "#fb9f3a"
             ],
             [
              0.8888888888888888,
              "#fdca26"
             ],
             [
              1,
              "#f0f921"
             ]
            ],
            "type": "histogram2d"
           }
          ],
          "histogram2dcontour": [
           {
            "colorbar": {
             "outlinewidth": 0,
             "ticks": ""
            },
            "colorscale": [
             [
              0,
              "#0d0887"
             ],
             [
              0.1111111111111111,
              "#46039f"
             ],
             [
              0.2222222222222222,
              "#7201a8"
             ],
             [
              0.3333333333333333,
              "#9c179e"
             ],
             [
              0.4444444444444444,
              "#bd3786"
             ],
             [
              0.5555555555555556,
              "#d8576b"
             ],
             [
              0.6666666666666666,
              "#ed7953"
             ],
             [
              0.7777777777777778,
              "#fb9f3a"
             ],
             [
              0.8888888888888888,
              "#fdca26"
             ],
             [
              1,
              "#f0f921"
             ]
            ],
            "type": "histogram2dcontour"
           }
          ],
          "mesh3d": [
           {
            "colorbar": {
             "outlinewidth": 0,
             "ticks": ""
            },
            "type": "mesh3d"
           }
          ],
          "parcoords": [
           {
            "line": {
             "colorbar": {
              "outlinewidth": 0,
              "ticks": ""
             }
            },
            "type": "parcoords"
           }
          ],
          "pie": [
           {
            "automargin": true,
            "type": "pie"
           }
          ],
          "scatter": [
           {
            "fillpattern": {
             "fillmode": "overlay",
             "size": 10,
             "solidity": 0.2
            },
            "type": "scatter"
           }
          ],
          "scatter3d": [
           {
            "line": {
             "colorbar": {
              "outlinewidth": 0,
              "ticks": ""
             }
            },
            "marker": {
             "colorbar": {
              "outlinewidth": 0,
              "ticks": ""
             }
            },
            "type": "scatter3d"
           }
          ],
          "scattercarpet": [
           {
            "marker": {
             "colorbar": {
              "outlinewidth": 0,
              "ticks": ""
             }
            },
            "type": "scattercarpet"
           }
          ],
          "scattergeo": [
           {
            "marker": {
             "colorbar": {
              "outlinewidth": 0,
              "ticks": ""
             }
            },
            "type": "scattergeo"
           }
          ],
          "scattergl": [
           {
            "marker": {
             "colorbar": {
              "outlinewidth": 0,
              "ticks": ""
             }
            },
            "type": "scattergl"
           }
          ],
          "scattermapbox": [
           {
            "marker": {
             "colorbar": {
              "outlinewidth": 0,
              "ticks": ""
             }
            },
            "type": "scattermapbox"
           }
          ],
          "scatterpolar": [
           {
            "marker": {
             "colorbar": {
              "outlinewidth": 0,
              "ticks": ""
             }
            },
            "type": "scatterpolar"
           }
          ],
          "scatterpolargl": [
           {
            "marker": {
             "colorbar": {
              "outlinewidth": 0,
              "ticks": ""
             }
            },
            "type": "scatterpolargl"
           }
          ],
          "scatterternary": [
           {
            "marker": {
             "colorbar": {
              "outlinewidth": 0,
              "ticks": ""
             }
            },
            "type": "scatterternary"
           }
          ],
          "surface": [
           {
            "colorbar": {
             "outlinewidth": 0,
             "ticks": ""
            },
            "colorscale": [
             [
              0,
              "#0d0887"
             ],
             [
              0.1111111111111111,
              "#46039f"
             ],
             [
              0.2222222222222222,
              "#7201a8"
             ],
             [
              0.3333333333333333,
              "#9c179e"
             ],
             [
              0.4444444444444444,
              "#bd3786"
             ],
             [
              0.5555555555555556,
              "#d8576b"
             ],
             [
              0.6666666666666666,
              "#ed7953"
             ],
             [
              0.7777777777777778,
              "#fb9f3a"
             ],
             [
              0.8888888888888888,
              "#fdca26"
             ],
             [
              1,
              "#f0f921"
             ]
            ],
            "type": "surface"
           }
          ],
          "table": [
           {
            "cells": {
             "fill": {
              "color": "#EBF0F8"
             },
             "line": {
              "color": "white"
             }
            },
            "header": {
             "fill": {
              "color": "#C8D4E3"
             },
             "line": {
              "color": "white"
             }
            },
            "type": "table"
           }
          ]
         },
         "layout": {
          "annotationdefaults": {
           "arrowcolor": "#2a3f5f",
           "arrowhead": 0,
           "arrowwidth": 1
          },
          "autotypenumbers": "strict",
          "coloraxis": {
           "colorbar": {
            "outlinewidth": 0,
            "ticks": ""
           }
          },
          "colorscale": {
           "diverging": [
            [
             0,
             "#8e0152"
            ],
            [
             0.1,
             "#c51b7d"
            ],
            [
             0.2,
             "#de77ae"
            ],
            [
             0.3,
             "#f1b6da"
            ],
            [
             0.4,
             "#fde0ef"
            ],
            [
             0.5,
             "#f7f7f7"
            ],
            [
             0.6,
             "#e6f5d0"
            ],
            [
             0.7,
             "#b8e186"
            ],
            [
             0.8,
             "#7fbc41"
            ],
            [
             0.9,
             "#4d9221"
            ],
            [
             1,
             "#276419"
            ]
           ],
           "sequential": [
            [
             0,
             "#0d0887"
            ],
            [
             0.1111111111111111,
             "#46039f"
            ],
            [
             0.2222222222222222,
             "#7201a8"
            ],
            [
             0.3333333333333333,
             "#9c179e"
            ],
            [
             0.4444444444444444,
             "#bd3786"
            ],
            [
             0.5555555555555556,
             "#d8576b"
            ],
            [
             0.6666666666666666,
             "#ed7953"
            ],
            [
             0.7777777777777778,
             "#fb9f3a"
            ],
            [
             0.8888888888888888,
             "#fdca26"
            ],
            [
             1,
             "#f0f921"
            ]
           ],
           "sequentialminus": [
            [
             0,
             "#0d0887"
            ],
            [
             0.1111111111111111,
             "#46039f"
            ],
            [
             0.2222222222222222,
             "#7201a8"
            ],
            [
             0.3333333333333333,
             "#9c179e"
            ],
            [
             0.4444444444444444,
             "#bd3786"
            ],
            [
             0.5555555555555556,
             "#d8576b"
            ],
            [
             0.6666666666666666,
             "#ed7953"
            ],
            [
             0.7777777777777778,
             "#fb9f3a"
            ],
            [
             0.8888888888888888,
             "#fdca26"
            ],
            [
             1,
             "#f0f921"
            ]
           ]
          },
          "colorway": [
           "#636efa",
           "#EF553B",
           "#00cc96",
           "#ab63fa",
           "#FFA15A",
           "#19d3f3",
           "#FF6692",
           "#B6E880",
           "#FF97FF",
           "#FECB52"
          ],
          "font": {
           "color": "#2a3f5f"
          },
          "geo": {
           "bgcolor": "white",
           "lakecolor": "white",
           "landcolor": "#E5ECF6",
           "showlakes": true,
           "showland": true,
           "subunitcolor": "white"
          },
          "hoverlabel": {
           "align": "left"
          },
          "hovermode": "closest",
          "mapbox": {
           "style": "light"
          },
          "paper_bgcolor": "white",
          "plot_bgcolor": "#E5ECF6",
          "polar": {
           "angularaxis": {
            "gridcolor": "white",
            "linecolor": "white",
            "ticks": ""
           },
           "bgcolor": "#E5ECF6",
           "radialaxis": {
            "gridcolor": "white",
            "linecolor": "white",
            "ticks": ""
           }
          },
          "scene": {
           "xaxis": {
            "backgroundcolor": "#E5ECF6",
            "gridcolor": "white",
            "gridwidth": 2,
            "linecolor": "white",
            "showbackground": true,
            "ticks": "",
            "zerolinecolor": "white"
           },
           "yaxis": {
            "backgroundcolor": "#E5ECF6",
            "gridcolor": "white",
            "gridwidth": 2,
            "linecolor": "white",
            "showbackground": true,
            "ticks": "",
            "zerolinecolor": "white"
           },
           "zaxis": {
            "backgroundcolor": "#E5ECF6",
            "gridcolor": "white",
            "gridwidth": 2,
            "linecolor": "white",
            "showbackground": true,
            "ticks": "",
            "zerolinecolor": "white"
           }
          },
          "shapedefaults": {
           "line": {
            "color": "#2a3f5f"
           }
          },
          "ternary": {
           "aaxis": {
            "gridcolor": "white",
            "linecolor": "white",
            "ticks": ""
           },
           "baxis": {
            "gridcolor": "white",
            "linecolor": "white",
            "ticks": ""
           },
           "bgcolor": "#E5ECF6",
           "caxis": {
            "gridcolor": "white",
            "linecolor": "white",
            "ticks": ""
           }
          },
          "title": {
           "x": 0.05
          },
          "xaxis": {
           "automargin": true,
           "gridcolor": "white",
           "linecolor": "white",
           "ticks": "",
           "title": {
            "standoff": 15
           },
           "zerolinecolor": "white",
           "zerolinewidth": 2
          },
          "yaxis": {
           "automargin": true,
           "gridcolor": "white",
           "linecolor": "white",
           "ticks": "",
           "title": {
            "standoff": 15
           },
           "zerolinecolor": "white",
           "zerolinewidth": 2
          }
         }
        },
        "title": {
         "text": "Total Volume vs Gestational Age"
        },
        "xaxis": {
         "anchor": "y",
         "domain": [
          0,
          1
         ],
         "title": {
          "text": "x"
         }
        },
        "yaxis": {
         "anchor": "x",
         "domain": [
          0,
          1
         ],
         "title": {
          "text": "y"
         }
        }
       }
      }
     },
     "metadata": {},
     "output_type": "display_data"
    }
   ],
   "source": [
    "data_x = []\n",
    "data_y = []\n",
    "for key, values in volume_ml_per_ga.items():\n",
    "    for value in values:\n",
    "        data_x.append(key)\n",
    "        data_y.append(value)\n",
    "\n",
    "px.scatter(x=data_x, y=data_y, title=\"Total Volume vs Gestational Age\").show()"
   ]
  },
  {
   "cell_type": "code",
   "execution_count": null,
   "metadata": {},
   "outputs": [],
   "source": []
  }
 ],
 "metadata": {
  "kernelspec": {
   "display_name": "img-research",
   "language": "python",
   "name": "python3"
  },
  "language_info": {
   "codemirror_mode": {
    "name": "ipython",
    "version": 3
   },
   "file_extension": ".py",
   "mimetype": "text/x-python",
   "name": "python",
   "nbconvert_exporter": "python",
   "pygments_lexer": "ipython3",
   "version": "3.10.13"
  }
 },
 "nbformat": 4,
 "nbformat_minor": 2
}
